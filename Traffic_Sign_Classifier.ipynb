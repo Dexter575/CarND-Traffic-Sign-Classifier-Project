{
  "nbformat": 4,
  "nbformat_minor": 0,
  "metadata": {
    "anaconda-cloud": {},
    "kernelspec": {
      "display_name": "Python 3",
      "language": "python",
      "name": "python3"
    },
    "language_info": {
      "codemirror_mode": {
        "name": "ipython",
        "version": 3
      },
      "file_extension": ".py",
      "mimetype": "text/x-python",
      "name": "python",
      "nbconvert_exporter": "python",
      "pygments_lexer": "ipython3",
      "version": "3.5.2"
    },
    "colab": {
      "name": "Traffic_Sign_Classifier.ipynb",
      "provenance": [],
      "collapsed_sections": []
    }
  },
  "cells": [
    {
      "cell_type": "markdown",
      "metadata": {
        "id": "rnwWB1xIDR_y",
        "colab_type": "text"
      },
      "source": [
        "# Self-Driving Car Engineer Nanodegree\n",
        "\n",
        "## Project: Build a Traffic Sign Recognition Classifier\n",
        "\n",
        "In this project, we will use what you've learned about deep neural networks and convolutional neural networks to classify traffic signs. Specifically, you'll train a model to classify traffic signs from the German Traffic Sign Dataset.\n",
        "\n",
        "In this notebook, a template is provided for you to implement your functionality in stages, which is required to successfully complete this project. If additional code is required that cannot be included in the notebook, be sure that the Python code is successfully imported and included in your submission if necessary. \n",
        "\n",
        "> **Note**: Once you have completed all of the code implementations, you need to finalize your work by exporting the iPython Notebook as an HTML document. Before exporting the notebook to html, all of the code cells need to have been run so that reviewers can see the final implementation and output. You can then export the notebook by using the menu above and navigating to  \\n\",\n",
        "    \"**File -> Download as -> HTML (.html)**. Include the finished document along with this notebook as your submission. \n",
        "\n",
        "In addition to implementing code, there is a writeup to complete. The writeup should be completed in a separate file, which can be either a markdown file or a pdf document. There is a [write up template](https://github.com/udacity/CarND-Traffic-Sign-Classifier-Project/blob/master/writeup_template.md) that can be used to guide the writing process. Completing the code template and writeup template will cover all of the [rubric points](https://review.udacity.com/#!/rubrics/481/view) for this project.\n",
        "\n",
        "The [rubric](https://review.udacity.com/#!/rubrics/481/view) contains \"Stand Out Suggestions\" for enhancing the project beyond the minimum requirements. The stand out suggestions are optional. If you decide to pursue the \"stand out suggestions\", you can include the code in this Ipython notebook and also discuss the results in the writeup file.\n",
        "\n",
        "\n",
        ">**Note:** Code and Markdown cells can be executed using the **Shift + Enter** keyboard shortcut. In addition, Markdown cells can be edited by typically double-clicking the cell to enter edit mode."
      ]
    },
    {
      "cell_type": "code",
      "metadata": {
        "id": "REVkdz57f5RY",
        "colab_type": "code",
        "colab": {}
      },
      "source": [
        "# Import Dependencies\n",
        "import pandas as pd\n",
        "import numpy as np\n",
        "import csv\n",
        "import random\n",
        "from sklearn.utils import shuffle\n",
        "import tensorflow as tf\n",
        "from tensorflow.contrib.layers import flatten\n",
        "import matplotlib.pyplot as plt\n",
        "import matplotlib.image as mpimg\n",
        "import cv2\n",
        "import glob\n",
        "#---------------------------------------------------------------"
      ],
      "execution_count": 0,
      "outputs": []
    },
    {
      "cell_type": "markdown",
      "metadata": {
        "id": "dJE4PIKaDR_0",
        "colab_type": "text"
      },
      "source": [
        "---\n",
        "## Step 0: Load The Data"
      ]
    },
    {
      "cell_type": "code",
      "metadata": {
        "id": "69boecL2DR_2",
        "colab_type": "code",
        "colab": {}
      },
      "source": [
        "# Load pickled data\n",
        "import pickle\n",
        "\n",
        "# TODO: Fill this in based on where you saved the training and testing data\n",
        "\n",
        "training_file = 'traffic-signs-data/train.p'\n",
        "validation_file='traffic-signs-data/valid.p'\n",
        "testing_file = 'traffic-signs-data/test.p\n",
        "\n",
        "with open(training_file, mode='rb') as f:\n",
        "    train = pickle.load(f)\n",
        "with open(validation_file, mode='rb') as f:\n",
        "    valid = pickle.load(f)\n",
        "with open(testing_file, mode='rb') as f:\n",
        "    test = pickle.load(f)\n",
        "    \n",
        "X_train, y_train = train['features'], train['labels']\n",
        "X_valid, y_valid = valid['features'], valid['labels']\n",
        "X_test, y_test = test['features'], test['labels']"
      ],
      "execution_count": 0,
      "outputs": []
    },
    {
      "cell_type": "markdown",
      "metadata": {
        "id": "qM4PITtKDR_7",
        "colab_type": "text"
      },
      "source": [
        "---\n",
        "\n",
        "## Step 1: Dataset Summary & Exploration\n",
        "\n",
        "The pickled data is a dictionary with 4 key/value pairs:\n",
        "\n",
        "- `'features'` is a 4D array containing raw pixel data of the traffic sign images, (num examples, width, height, channels).\n",
        "- `'labels'` is a 1D array containing the label/class id of the traffic sign. The file `signnames.csv` contains id -> name mappings for each id.\n",
        "- `'sizes'` is a list containing tuples, (width, height) representing the original width and height the image.\n",
        "- `'coords'` is a list containing tuples, (x1, y1, x2, y2) representing coordinates of a bounding box around the sign in the image. **THESE COORDINATES ASSUME THE ORIGINAL IMAGE. THE PICKLED DATA CONTAINS RESIZED VERSIONS (32 by 32) OF THESE IMAGES**\n",
        "\n",
        "Complete the basic data summary below. Use python, numpy and/or pandas methods to calculate the data summary rather than hard coding the results. For example, the [pandas shape method](http://pandas.pydata.org/pandas-docs/stable/generated/pandas.DataFrame.shape.html) might be useful for calculating some of the summary results. "
      ]
    },
    {
      "cell_type": "markdown",
      "metadata": {
        "id": "vLs-5h_JDR_8",
        "colab_type": "text"
      },
      "source": [
        "### Provide a Basic Summary of the Data Set Using Python, Numpy and/or Pandas"
      ]
    },
    {
      "cell_type": "code",
      "metadata": {
        "id": "CVW6APz8DR_9",
        "colab_type": "code",
        "colab": {}
      },
      "source": [
        "### Replace each question mark with the appropriate value. \n",
        "### Use python, pandas or numpy methods rather than hard coding the results\n",
        "\n",
        "# TODO: Number of training examples\n",
        "n_train = len(X_train)\n",
        "\n",
        "# TODO: Number of validation examples\n",
        "n_validation = len(X_valid)\n",
        "\n",
        "# TODO: Number of testing examples.\n",
        "n_test = len(X_test)\n",
        "\n",
        "# TODO: What's the shape of an traffic sign image?\n",
        "image_shape = X_train[0].shape\n",
        "\n",
        "# TODO: How many unique classes/labels there are in the dataset.\n",
        "n_classes = np.unique(y_train).size\n",
        "\n",
        "print(\"Number of training examples =\", n_train)\n",
        "print(\"Number of testing examples =\", n_test)\n",
        "print(\"Image data shape =\", image_shape)\n",
        "print(\"Number of classes =\", n_classes)"
      ],
      "execution_count": 0,
      "outputs": []
    },
    {
      "cell_type": "markdown",
      "metadata": {
        "id": "wFwzYRs7DSAC",
        "colab_type": "text"
      },
      "source": [
        "### Include an exploratory visualization of the dataset"
      ]
    },
    {
      "cell_type": "markdown",
      "metadata": {
        "id": "EZNk09u5DSAD",
        "colab_type": "text"
      },
      "source": [
        "Visualize the German Traffic Signs Dataset using the pickled file(s). This is open ended, suggestions include: plotting traffic sign images, plotting the count of each sign, etc. \n",
        "\n",
        "The [Matplotlib](http://matplotlib.org/) [examples](http://matplotlib.org/examples/index.html) and [gallery](http://matplotlib.org/gallery.html) pages are a great resource for doing visualizations in Python.\n",
        "\n",
        "**NOTE:** It's recommended you start with something simple first. If you wish to do more, come back to it after you've completed the rest of the sections. It can be interesting to look at the distribution of classes in the training, validation and test set. Is the distribution the same? Are there more examples of some classes than others?"
      ]
    },
    {
      "cell_type": "code",
      "metadata": {
        "id": "_ya0XUhJDSAE",
        "colab_type": "code",
        "colab": {}
      },
      "source": [
        "### Data exploration visualization code goes here.\n",
        "### Feel free to use as many code cells as needed.\n",
        "import matplotlib.pyplot as plt\n",
        "# Visualizations will be shown in the notebook.\n",
        "%matplotlib inline"
      ],
      "execution_count": 0,
      "outputs": []
    },
    {
      "cell_type": "code",
      "metadata": {
        "id": "iNnxQvz8KOgU",
        "colab_type": "code",
        "colab": {}
      },
      "source": [
        "# Loop over range\n",
        "for index in range(100,101):\n",
        "    image = X_train[index]\n",
        "    plt.figure(figsize=(1,1))\n",
        "    plt.imshow(image)\n",
        "    print(y_train[index])"
      ],
      "execution_count": 0,
      "outputs": []
    },
    {
      "cell_type": "code",
      "metadata": {
        "id": "9sf0UyEoK8h9",
        "colab_type": "code",
        "colab": {}
      },
      "source": [
        "# In this block we will write a function to visualize and show image\n",
        "\n",
        "%matplotlib inline\n",
        "class_id_to_sign = {}\n",
        "# Assign Sementics (class_id_to_sign)\n",
        "with open('signnames.csv') as csvfile:\n",
        "    reader = csv.reader(csvfile)\n",
        "    for row in reader:\n",
        "        class_id_to_sign[row[0]] = row[1]\n",
        "\n",
        "# Function for Visulaizing Images\n",
        "## Inputs: Images and Labels (Respectively)  \n",
        "def VisualizeImages(images, labels):\n",
        "    n_columns = 8   #Number_of_columns\n",
        "    n_rows = int(len(images)/n_columns)+1   #number_of_rows\n",
        "    \n",
        "    # Adjust Width and Height of Displayed Image(s)\n",
        "    width = 24\n",
        "    height = n_rows * 3\n",
        "    \n",
        "    # Define\n",
        "    fig, ax = plt.subplots(n_rows,n_columns, figsize=(width, height))\n",
        "    fig.subplots_adjust(hspace = .2, wspace=.1)\n",
        "    ax = ax.ravel()\n",
        "    for i in range(n_columns * n_rows):\n",
        "        ax[i].axis('off')\n",
        "        if (i<len(images)):\n",
        "            image = images[i]\n",
        "            ax[i].axis('off')\n",
        "            #if (image.shape[2] == 1):\n",
        "            #    print(image)\n",
        "            #    ax[i].imshow(image.astype(np.uint8).squeeze, cmap='gray')\n",
        "            #else:\n",
        "\n",
        "            # Display the Respective Image\n",
        "            ax[i].imshow(image)\n",
        "            # Set Title according to Label\n",
        "            ax[i].set_title('{} ({:.20})'.format(labels[i], class_id_to_sign[str(labels[i])]))\n",
        " #----------------------------------------------------------------------------------------"
      ],
      "execution_count": 0,
      "outputs": []
    },
    {
      "cell_type": "code",
      "metadata": {
        "id": "abnUvHsRK9Y3",
        "colab_type": "code",
        "colab": {}
      },
      "source": [
        "# This block will draw the images by utilizing the above defined visualization function\n",
        "\n",
        "# Declaring two arrays, one for images, one for labels\n",
        "X = []\n",
        "Y = []\n",
        "\n",
        "# Assigning Labels and Indices\n",
        "labels, indices = np.unique(y_train, return_index=True)\n",
        "\n",
        "# Iteration\n",
        "for i in range(len(labels)):\n",
        "    X.append(X_train[indices[i]])\n",
        "    Y.append(labels[i])\n",
        "\n",
        "# Call Function 'VisualizeImage' to Draw Images over the setted grid\n",
        "VisualizeImages(X,Y)\n",
        "#---------------------------------------------------------------------------"
      ],
      "execution_count": 0,
      "outputs": []
    },
    {
      "cell_type": "code",
      "metadata": {
        "id": "OdqIZ9muLCyJ",
        "colab_type": "code",
        "colab": {}
      },
      "source": [
        "# Now we make a histogram for the distribution Using Bar Graph (Built in Numpy)\n",
        "x,y = np.unique(y_train, return_counts=True)\n",
        "plt.bar(x,y)\n",
        "plt.show\n",
        "#--------------------------------------------------------------------------"
      ],
      "execution_count": 0,
      "outputs": []
    },
    {
      "cell_type": "markdown",
      "metadata": {
        "id": "ZdA0R4gBDSAI",
        "colab_type": "text"
      },
      "source": [
        "----\n",
        "\n",
        "## Step 2: Design and Test a Model Architecture\n",
        "\n",
        "Design and implement a deep learning model that learns to recognize traffic signs. Train and test your model on the [German Traffic Sign Dataset](http://benchmark.ini.rub.de/?section=gtsrb&subsection=dataset).\n",
        "\n",
        "The LeNet-5 implementation shown in the [classroom](https://classroom.udacity.com/nanodegrees/nd013/parts/fbf77062-5703-404e-b60c-95b78b2f3f9e/modules/6df7ae49-c61c-4bb2-a23e-6527e69209ec/lessons/601ae704-1035-4287-8b11-e2c2716217ad/concepts/d4aca031-508f-4e0b-b493-e7b706120f81) at the end of the CNN lesson is a solid starting point. You'll have to change the number of classes and possibly the preprocessing, but aside from that it's plug and play! \n",
        "\n",
        "With the LeNet-5 solution from the lecture, you should expect a validation set accuracy of about 0.89. To meet specifications, the validation set accuracy will need to be at least 0.93. It is possible to get an even higher accuracy, but 0.93 is the minimum for a successful project submission. \n",
        "\n",
        "There are various aspects to consider when thinking about this problem:\n",
        "\n",
        "- Neural network architecture (is the network over or underfitting?)\n",
        "- Play around preprocessing techniques (normalization, rgb to grayscale, etc)\n",
        "- Number of examples per label (some have more than others).\n",
        "- Generate fake data.\n",
        "\n",
        "Here is an example of a [published baseline model on this problem](http://yann.lecun.com/exdb/publis/pdf/sermanet-ijcnn-11.pdf). It's not required to be familiar with the approach used in the paper but, it's good practice to try to read papers like these."
      ]
    },
    {
      "cell_type": "markdown",
      "metadata": {
        "id": "XGYln11UDSAJ",
        "colab_type": "text"
      },
      "source": [
        "### Pre-process the Data Set (normalization, grayscale, etc.)"
      ]
    },
    {
      "cell_type": "markdown",
      "metadata": {
        "id": "sHBFkJnhDSAK",
        "colab_type": "text"
      },
      "source": [
        "Minimally, the image data should be normalized so that the data has mean zero and equal variance. For image data, `(pixel - 128)/ 128` is a quick way to approximately normalize the data and can be used in this project. \n",
        "\n",
        "Other pre-processing steps are optional. You can try different techniques to see if it improves performance. \n",
        "\n",
        "Use the code cell (or multiple code cells, if necessary) to implement the first step of your project."
      ]
    },
    {
      "cell_type": "code",
      "metadata": {
        "id": "2uVCqVQzDSAL",
        "colab_type": "code",
        "colab": {}
      },
      "source": [
        "### Preprocess the data here. It is required to normalize the data. Other preprocessing steps could include \n",
        "### converting to grayscale, etc.\n",
        "### Feel free to use as many code cells as needed.\n",
        "\n",
        "# We need to implement grayscale function as well as normalization function for images\n",
        "def PreProcessImages(color_images):\n",
        "    # Grayscale Function\n",
        "    grayscaled_images = np.sum(color_images/3, axis=3, keepdims=True)\n",
        "    \n",
        "    # Function for Normalization of Images\n",
        "    normalized_images = (grayscaled_images - 128) / 128\n",
        "      \n",
        "    return normalized_images  #return the pre_proccessed images"
      ],
      "execution_count": 0,
      "outputs": []
    },
    {
      "cell_type": "code",
      "metadata": {
        "id": "LhMWAqvcPwJf",
        "colab_type": "code",
        "colab": {}
      },
      "source": [
        "# Now we define a function to get a random image\n",
        "def GetRandomImage(x, y, filter_index):\n",
        "    indices, = np.nonzero( y==filter_index )\n",
        "    index = np.random.choice(indices)\n",
        "    return x[index]\n",
        "    \n",
        "# Draw a Random Image\n",
        "image = GetRandomImage(X_train, y_train, 23)  #change this 23\n",
        "plt.figure(figsize=(1,1))\n",
        "plt.imshow(image)\n",
        "\n",
        "print (X_train.shape)\n",
        "pre_processed = PreProcessImages(X_train)\n",
        "print (pre_processed.shape)"
      ],
      "execution_count": 0,
      "outputs": []
    },
    {
      "cell_type": "markdown",
      "metadata": {
        "id": "KyLdfPqIDSAP",
        "colab_type": "text"
      },
      "source": [
        "### Model Architecture"
      ]
    },
    {
      "cell_type": "code",
      "metadata": {
        "id": "hRB2E2AvDSAQ",
        "colab_type": "code",
        "colab": {}
      },
      "source": [
        "### Define your architecture here.\n",
        "### Feel free to use as many code cells as needed.\n",
        "\n",
        "### Here, the exciting part is that we will be playing out with tensors.\n",
        "\n",
        "# Define Epochs number, batch size and drop_out rate\n",
        "## Change em\n",
        "EPOCHS = 150\n",
        "BATCH_SIZE = 128\n",
        "DROPOUT = 0.5\n",
        "\n",
        "#Shuffle Data\n",
        "X_train, y_train = shuffle(X_train, y_train)\n",
        "\n",
        "# Here we define different placeholder variables\n",
        "# A placeholder is simply a variable that we will assign data to at a later time.\n",
        "keep_prob = tf.placeholder(tf.float32)\n",
        "x = tf.placeholder(tf.float32, (None, 32, 32, 1))\n",
        "y = tf.placeholder(tf.int32, (None))\n",
        "one_hot_y = tf.one_hot(y, 43) # Returns a one-hot tensor  (one-hot Encode y)\n",
        "keep_prob = tf.placeholder(tf.float32)"
      ],
      "execution_count": 0,
      "outputs": []
    },
    {
      "cell_type": "code",
      "metadata": {
        "id": "KfLaNVLvTK2x",
        "colab_type": "code",
        "colab": {}
      },
      "source": [
        "# Here, we Implement the LeNet-5\n",
        "# As show in Udacity's Lectures in the classroom\n",
        "# Taking CNN Lesson as a basic starting point\n",
        "# It is kind of plug and play\n",
        "\n",
        "def LeNet(x):    \n",
        "\n",
        "    # First we define the Hyperparameters.\n",
        "    mu = 0\n",
        "    sigma = 0.1\n",
        "    \n",
        "    # Layer 1: Convolutional. Input = 32x32x1. Output = 28x28x6.\n",
        "\n",
        "    # Weight\n",
        "    conv_weight_1 = tf.Variable(tf.truncated_normal(shape=(5, 5, 1, 6), mean = mu, stddev = sigma))\n",
        "    \n",
        "    # Bias\n",
        "    conv_bias_1 = tf.Variable(tf.zeros(6))\n",
        "\n",
        "    # Now, we apply convolution as:\n",
        "    layer_1 = tf.nn.conv2d(x, conv_weight_1, strides=[1, 1, 1, 1], padding='VALID') + conv_bias_1\n",
        "    # Activating (Layer 1) as:\n",
        "    layer_1 = tf.nn.relu(layer_1)\n",
        "    # Pooling (Layer 1). Input = 28x28x6. Output = 14x14x6.\n",
        "    layer_1 = tf.nn.max_pool(layer_1, ksize=[1, 2, 2, 1], strides=[1, 2, 2, 1], padding='VALID')\n",
        "\n",
        "\n",
        "    # Layer 2: Convolutional. Output = 10x10x16.\n",
        "    # Weight\n",
        "    conv_weight_2 = tf.Variable(tf.truncated_normal(shape=(5, 5, 6, 16), mean = mu, stddev = sigma))\n",
        "    \n",
        "    # Bias\n",
        "    conv_bias_2 = tf.Variable(tf.zeros(16))\n",
        "    \n",
        "    # Now, we apply convolution (second layer) as:\n",
        "    layer_2   = tf.nn.conv2d(layer_1, conv_weight_2, strides=[1, 1, 1, 1], padding='VALID') + conv_bias_2\n",
        "    # Activating (Layer 2) as:\n",
        "    layer_2 = tf.nn.relu(layer_2)\n",
        "    # Pooling (Layer 2). Input = 10x10x16. Output = 5x5x16.\n",
        "    layer_2 = tf.nn.max_pool(layer_2, ksize=[1, 2, 2, 1], strides=[1, 2, 2, 1], padding='VALID')\n",
        "\n",
        "    # Flatten (Layer 2). Input = 5x5x16. Output = 400.\n",
        "    fully_connected_0   = flatten(layer_2)\n",
        "    fully_connected_0   = tf.nn.dropout(fully_connected_0, keep_prob)\n",
        "    \n",
        "    # Layer 3: Fully Connected. Input = 400. Output = 120.\n",
        "    # This layer is fully connected. \n",
        "    # Weight\n",
        "    fully_connected_weight_1 = tf.Variable(tf.truncated_normal(shape=(400, 120), mean = mu, stddev = sigma))\n",
        "    \n",
        "    # Bias\n",
        "    fully_connected_bias_1 = tf.Variable(tf.zeros(120))\n",
        "\n",
        "    # Here, instead of 2D Convolution, we are using matrix multiplication\n",
        "    fully_connected_1   = tf.matmul(fully_connected_0, fully_connected_weight_1) + fully_connected_bias_1\n",
        "    # Activating (Layer 3) as:\n",
        "    fully_connected_1    = tf.nn.relu(fully_connected_1)\n",
        "    fully_connected_1    = tf.nn.dropout(fully_connected_1, keep_prob) \n",
        "\n",
        "    # Layer 4: Fully Connected. Input = 120. Output = 84.\n",
        "    # Weight\n",
        "    fully_connected_weight_2  = tf.Variable(tf.truncated_normal(shape=(120, 84), mean = mu, stddev = sigma))\n",
        "    \n",
        "    # Bias\n",
        "    fully_connected_bias_2  = tf.Variable(tf.zeros(84))\n",
        "\n",
        "    # Here, instead of 2D Convolution, we are using matrix multiplication\n",
        "    fully_connected_2    = tf.matmul(fully_connected_1, fully_connected_weight_2) + fully_connected_bias_2 \n",
        "    # Activating (Layer 4) as:\n",
        "    fully_connected_2    = tf.nn.relu(fully_connected_2)\n",
        "    fully_connected_2    = tf.nn.dropout(fully_connected_2, keep_prob) \n",
        "\n",
        "\n",
        "    # Layer 5: Fully Connected. Input = 84. Output = 43.\n",
        "    # As, this is the final layer, so our output need to be matched up with the number of classes\n",
        "    fully_connected_weight_3  = tf.Variable(tf.truncated_normal(shape=(84, 43), mean = mu, stddev = sigma))\n",
        "    fully_connected_bias_3  = tf.Variable(tf.zeros(43))\n",
        "\n",
        "    # Matrix Multiplication\n",
        "    logits = tf.matmul(fully_connected_2, fully_connected_weight_3) + fully_connected_bias_3\n",
        "    \n",
        "    return logits"
      ],
      "execution_count": 0,
      "outputs": []
    },
    {
      "cell_type": "markdown",
      "metadata": {
        "id": "GrjpeNewDSAV",
        "colab_type": "text"
      },
      "source": [
        "### Train, Validate and Test the Model"
      ]
    },
    {
      "cell_type": "markdown",
      "metadata": {
        "id": "1qmrzshWDSAW",
        "colab_type": "text"
      },
      "source": [
        "A validation set can be used to assess how well the model is performing. A low accuracy on the training and validation\n",
        "sets imply underfitting. A high accuracy on the training set but low accuracy on the validation set implies overfitting."
      ]
    },
    {
      "cell_type": "code",
      "metadata": {
        "id": "FZ2Wdb7jDSAW",
        "colab_type": "code",
        "colab": {}
      },
      "source": [
        "### Train your model here.\n",
        "### Calculate and report the accuracy on the training and validation set.\n",
        "### Once a final model architecture is selected, \n",
        "### the accuracy on the test set should be calculated and reported as well.\n",
        "### Feel free to use as many code cells as needed.\n",
        "\n",
        "# Setting Learning Rate\n",
        "rate = 0.0005\n",
        "\n",
        "logits = LeNet(x)\n",
        "cross_entropy = tf.nn.softmax_cross_entropy_with_logits(labels=one_hot_y, logits=logits)\n",
        "\n",
        "# Set loss functions and optimizer\n",
        "loss_operation = tf.reduce_mean(cross_entropy)\n",
        "optimizer = tf.train.AdamOptimizer(learning_rate = rate)\n",
        "training_operation = optimizer.minimize(loss_operation)\n",
        "\n",
        "# Validation & Evaluation (of Neural Network)\n",
        "correct_prediction = tf.equal(tf.argmax(logits, 1), tf.argmax(one_hot_y, 1))\n",
        "accuracy_operation = tf.reduce_mean(tf.cast(correct_prediction, tf.float32))\n",
        "saver = tf.train.Saver()\n",
        "\n",
        "def Evaluate(X_data, y_data):\n",
        "    num_examples = len(X_data)\n",
        "    total_accuracy = 0\n",
        "    sess = tf.get_default_session()\n",
        "    for offset in range(0, num_examples, BATCH_SIZE):\n",
        "        batch_x, batch_y = X_data[offset:offset+BATCH_SIZE], y_data[offset:offset+BATCH_SIZE]\n",
        "        accuracy = sess.run(accuracy_operation, feed_dict={x: batch_x, y: batch_y, keep_prob: 1.0})\n",
        "        total_accuracy += (accuracy * len(batch_x))\n",
        "    return total_accuracy / num_examples\n",
        "\n",
        "X_train_preProcessed = PreProcessImages(X_train)\n",
        "X_valid_preProcessed = PreProcessImages(X_valid)\n",
        "X_test_preProcessed  = PreProcessImages(X_test)\n"
      ],
      "execution_count": 0,
      "outputs": []
    },
    {
      "cell_type": "code",
      "metadata": {
        "id": "PCVpU4UfbGw7",
        "colab_type": "code",
        "colab": {}
      },
      "source": [
        "# Training Block\n",
        "with tf.Session() as sess:\n",
        "    sess.run(tf.global_variables_initializer())\n",
        "    num_examples = len(X_train)\n",
        "    \n",
        "    print(\"Training...\")\n",
        "    print()\n",
        "    validation_accuracies = []    # Accuracies for validation\n",
        "    \n",
        "    # Iteration Starts\n",
        "    for i in range(EPOCHS):\n",
        "        X_train, X_train_preProcessed, y_train = shuffle(X_train, X_train_preProcessed, y_train)\n",
        "        for offset in range(0, num_examples, BATCH_SIZE):\n",
        "            end = offset + BATCH_SIZE\n",
        "            batch_x, batch_y = X_train_preProcessed[offset:end], y_train[offset:end]\n",
        "            sess.run(training_operation, feed_dict={x: batch_x, y: batch_y, keep_prob: DROPOUT})\n",
        "            \n",
        "        training_accuracy = evaluate(X_train_preProcessed, y_train)\n",
        "        validation_accuracy = evaluate(X_valid_preProcessed, y_valid)\n",
        "        \n",
        "        print(\"EPOCH {} ...\".format(i+1))\n",
        "        print(\"Training Accuracy = {:.3f}\".format(training_accuracy))\n",
        "        print(\"Validation Accuracy = {:.3f}\".format(validation_accuracy))\n",
        "        print()\n",
        "        validation_accuracies.append(validation_accuracy)\n",
        "    \n",
        "    # Save Model\n",
        "    save_file = 'model.ckpt'\n",
        "    saver.save(sess, save_file)\n",
        "    print(\"Model saved\")\n",
        "    \n",
        "    # Plot Statistics (Model)\n",
        "    plt.plot(range(EPOCHS),validation_accuracies)\n",
        "    plt.show"
      ],
      "execution_count": 0,
      "outputs": []
    },
    {
      "cell_type": "code",
      "metadata": {
        "id": "iUfAYK3bdaxd",
        "colab_type": "code",
        "colab": {}
      },
      "source": [
        "# Now, we launch the model on our test data\n",
        "with tf.Session() as sess:\n",
        "    saver.restore(sess, save_file)\n",
        "\n",
        "    test_accuracy = Evaluate(X_test_preProcessed, y_test)\n",
        "    #test_accuracy = sess.run(accuracy_operation, feed_dict={x: X_test, y: y_test, keep_prob : 1.0})\n",
        "\n",
        "    print(\"Test Accuracy = {:.3f}\".format(test_accuracy))\n",
        "#----------------------------------------------------------------"
      ],
      "execution_count": 0,
      "outputs": []
    },
    {
      "cell_type": "markdown",
      "metadata": {
        "id": "q2PVwSEeDSAb",
        "colab_type": "text"
      },
      "source": [
        "---\n",
        "\n",
        "## Step 3: Test a Model on New Images\n",
        "\n",
        "To give yourself more insight into how your model is working, download at least five pictures of German traffic signs from the web and use your model to predict the traffic sign type.\n",
        "\n",
        "You may find `signnames.csv` useful as it contains mappings from the class id (integer) to the actual sign name."
      ]
    },
    {
      "cell_type": "markdown",
      "metadata": {
        "id": "TZOHPf5SDSAc",
        "colab_type": "text"
      },
      "source": [
        "### Load and Output the Images"
      ]
    },
    {
      "cell_type": "code",
      "metadata": {
        "id": "1qOWXoxYDSAd",
        "colab_type": "code",
        "colab": {}
      },
      "source": [
        "### Load the images and plot them here.\n",
        "### Feel free to use as many code cells as needed.\n",
        "\n",
        "traffic_signs_data_folder = 'test_data/'\n",
        "  \n",
        "my_X_test = []\n",
        "my_Y_test = []\n",
        "for image_file in glob.glob(traffic_signs_data_folder + \"*.jpg\"):\n",
        "    image = np.array(mpimg.imread(image_file))\n",
        "    try:\n",
        "        label_str = image_file[len(traffic_signs_data_folder):][:2]\n",
        "        label = int(label_str)\n",
        "        my_X_test.append(image)\n",
        "        my_Y_test.append(label)\n",
        "    except  Exception:\n",
        "        print ('Ignoring image {}'.format(image_file))\n",
        "        \n",
        "VisualizeImages(my_X_test, my_Y_test)"
      ],
      "execution_count": 0,
      "outputs": []
    },
    {
      "cell_type": "markdown",
      "metadata": {
        "id": "Z0zHjzV4DSAg",
        "colab_type": "text"
      },
      "source": [
        "### Predict the Sign Type for Each Image"
      ]
    },
    {
      "cell_type": "code",
      "metadata": {
        "id": "n4liCHJeDSAh",
        "colab_type": "code",
        "colab": {}
      },
      "source": [
        "### Run the predictions here and use the model to output the prediction for each image.\n",
        "### Make sure to pre-process the images with the same pre-processing pipeline used earlier.\n",
        "### Feel free to use as many code cells as needed.\n",
        "\n",
        "X_test_PreProcessed = PreProcess(np.array(my_X_test))\n",
        "prediction=tf.argmax(logits,1)  # Prediction\n",
        "\n",
        "with tf.Session() as sess:\n",
        "    saver.restore(sess, save_file)\n",
        "    predictions = sess.run(prediction, feed_dict={x: X_test_PreProcessed, keep_prob: 1.0})\n",
        "    visualizeImages(my_X_test, predictions)\n",
        "    # Print Predictions\n",
        "    print(predictions)"
      ],
      "execution_count": 0,
      "outputs": []
    },
    {
      "cell_type": "markdown",
      "metadata": {
        "id": "zKNQtFUSDSAl",
        "colab_type": "text"
      },
      "source": [
        "### Analyze Performance"
      ]
    },
    {
      "cell_type": "code",
      "metadata": {
        "id": "JENIsqD6DSAm",
        "colab_type": "code",
        "colab": {}
      },
      "source": [
        "### Calculate the accuracy for these 5 new images. \n",
        "### For example, if the model predicted 1 out of 5 signs correctly, it's 20% accurate on these new images.\n",
        "\n",
        "with tf.Session() as sess:\n",
        "    saver.restore(sess, save_file)\n",
        "    # Test Accuracy\n",
        "    test_accuracy = evaluate(my_X_test_preProcessed, my_Y_test)\n",
        "    print(\"Test Accuracy = {:.3f}\".format(test_accuracy))"
      ],
      "execution_count": 0,
      "outputs": []
    },
    {
      "cell_type": "markdown",
      "metadata": {
        "id": "cSky4EBXDSAq",
        "colab_type": "text"
      },
      "source": [
        "### Output Top 5 Softmax Probabilities For Each Image Found on the Web"
      ]
    },
    {
      "cell_type": "markdown",
      "metadata": {
        "id": "j_O1Wov7DSAr",
        "colab_type": "text"
      },
      "source": [
        "For each of the new images, print out the model's softmax probabilities to show the **certainty** of the model's predictions (limit the output to the top 5 probabilities for each image). [`tf.nn.top_k`](https://www.tensorflow.org/versions/r0.12/api_docs/python/nn.html#top_k) could prove helpful here. \n",
        "\n",
        "The example below demonstrates how tf.nn.top_k can be used to find the top k predictions for each image.\n",
        "\n",
        "`tf.nn.top_k` will return the values and indices (class ids) of the top k predictions. So if k=3, for each sign, it'll return the 3 largest probabilities (out of a possible 43) and the correspoding class ids.\n",
        "\n",
        "Take this numpy array as an example. The values in the array represent predictions. The array contains softmax probabilities for five candidate images with six possible classes. `tf.nn.top_k` is used to choose the three classes with the highest probability:\n",
        "\n",
        "```\n",
        "# (5, 6) array\n",
        "a = np.array([[ 0.24879643,  0.07032244,  0.12641572,  0.34763842,  0.07893497,\n",
        "         0.12789202],\n",
        "       [ 0.28086119,  0.27569815,  0.08594638,  0.0178669 ,  0.18063401,\n",
        "         0.15899337],\n",
        "       [ 0.26076848,  0.23664738,  0.08020603,  0.07001922,  0.1134371 ,\n",
        "         0.23892179],\n",
        "       [ 0.11943333,  0.29198961,  0.02605103,  0.26234032,  0.1351348 ,\n",
        "         0.16505091],\n",
        "       [ 0.09561176,  0.34396535,  0.0643941 ,  0.16240774,  0.24206137,\n",
        "         0.09155967]])\n",
        "```\n",
        "\n",
        "Running it through `sess.run(tf.nn.top_k(tf.constant(a), k=3))` produces:\n",
        "\n",
        "```\n",
        "TopKV2(values=array([[ 0.34763842,  0.24879643,  0.12789202],\n",
        "       [ 0.28086119,  0.27569815,  0.18063401],\n",
        "       [ 0.26076848,  0.23892179,  0.23664738],\n",
        "       [ 0.29198961,  0.26234032,  0.16505091],\n",
        "       [ 0.34396535,  0.24206137,  0.16240774]]), indices=array([[3, 0, 5],\n",
        "       [0, 1, 4],\n",
        "       [0, 5, 1],\n",
        "       [1, 3, 5],\n",
        "       [1, 4, 3]], dtype=int32))\n",
        "```\n",
        "\n",
        "Looking just at the first row we get `[ 0.34763842,  0.24879643,  0.12789202]`, you can confirm these are the 3 largest probabilities in `a`. You'll also notice `[3, 0, 5]` are the corresponding indices."
      ]
    },
    {
      "cell_type": "code",
      "metadata": {
        "id": "uMblbSM8DSAs",
        "colab_type": "code",
        "colab": {}
      },
      "source": [
        "### Print out the top five softmax probabilities for the predictions on the German traffic sign images found on the web. \n",
        "### Feel free to use as many code cells as needed.\n",
        "\n",
        "def VisualizeTopk1(test_images, train_images, top_k):\n",
        "    probabilities = top_k.values\n",
        "    indices = top_k.indices\n",
        "    #assert (len(test_images) == len(indices))\n",
        "    \n",
        "    # Again Same Procedure, (Defining Columns, Rows, Width, Height)\n",
        "    n_columns = 6\n",
        "    n_rows = len(indices)\n",
        "    width = 24\n",
        "    height = n_rows * 3\n",
        "    fig, ax = plt.subplots(n_rows,n_columns, figsize=(width, height))\n",
        "    fig.subplots_adjust(hspace = .2, wspace=.1)\n",
        "    ax = ax.ravel()\n",
        "    \n",
        "    i = 0\n",
        "    for row in range(n_rows):\n",
        "        ax[i].axis('off')\n",
        "        ax[i].imshow(test_images[row])\n",
        "        #axs[i].set_title('{} ({:.20})'.format(labels[i], class_id_to_sign[str(labels[i])]))\n",
        "        i += 1\n",
        "        for j in range(len(indices[row])):\n",
        "            index = indices[row][j]\n",
        "            probability = probabilities[row][j]\n",
        "            ax[i].axis('off')\n",
        "            ax[i].set_title('{:.2f}% ({} {:.20})'.format(probability*100, index,  class_id_to_sign[str(index)]))\n",
        "            ax[i].imshow(GetRandomImage(X_train, y_train, index))\n",
        "            i += 1"
      ],
      "execution_count": 0,
      "outputs": []
    },
    {
      "cell_type": "code",
      "metadata": {
        "id": "n3t1CwQ0enTi",
        "colab_type": "code",
        "colab": {}
      },
      "source": [
        "def visualizeTopk2(test_images, train_images, top_k):\n",
        "    probabilities = top_k.values\n",
        "    indices = top_k.indices\n",
        "    #assert (len(test_images) == len(indices))\n",
        "          \n",
        "    # Again Same Procedure, (Defining Columns, Rows, Width, Height)\n",
        "    n_columns = 2\n",
        "    n_rows = len(indices)\n",
        "    width = 24\n",
        "    height = n_rows * 3\n",
        "\n",
        "    fig, ax = plt.subplots(n_rows,n_columns, figsize=(width, height))\n",
        "    fig.subplots_adjust(hspace = .2, wspace=.1)\n",
        "    ax = ax.ravel()\n",
        "\n",
        "    i = 0\n",
        "    for row in range(n_rows):\n",
        "        ax[i].axis('off')\n",
        "        ax[i].imshow(test_images[row])\n",
        "        i += 1\n",
        "        labs=[class_id_to_sign[str(j)] for j in indices[row]]\n",
        "        ax[i].barh(labs, probabilities[row])\n",
        "        \n",
        "        #ax[i].yticks(np.arange(1, 6, 1), labs)\n",
        "        i += 1"
      ],
      "execution_count": 0,
      "outputs": []
    },
    {
      "cell_type": "code",
      "metadata": {
        "id": "OgjN-3mPer68",
        "colab_type": "code",
        "colab": {}
      },
      "source": [
        "### Print out the top five softmax probabilities for the predictions on the German traffic sign images found on the web. \n",
        "### Feel free to use as many code cells as needed.\n",
        "\n",
        "softmax_logits = tf.nn.softmax(logits)\n",
        "top_k=tf.nn.top_k(softmax_logits,5)\n",
        "\n",
        "with tf.Session() as sess:\n",
        "    saver.restore(sess, save_file)\n",
        "    top_k = sess.run(top_k, feed_dict={x: X_test_PreProcessed, keep_prob : 1.0})\n",
        "    \n",
        "    VisualizeTopk1(my_X_test, X_train, top_k)\n",
        "    VisualizeTopk2(my_X_test, X_train, top_k)\n",
        "  #-----------------------------------------------------------------------------"
      ],
      "execution_count": 0,
      "outputs": []
    },
    {
      "cell_type": "markdown",
      "metadata": {
        "id": "ZYTbAbiCDSAx",
        "colab_type": "text"
      },
      "source": [
        "### Project Writeup\n",
        "\n",
        "Once you have completed the code implementation, document your results in a project writeup using this [template](https://github.com/udacity/CarND-Traffic-Sign-Classifier-Project/blob/master/writeup_template.md) as a guide. The writeup can be in a markdown or pdf file. "
      ]
    },
    {
      "cell_type": "markdown",
      "metadata": {
        "id": "xsXuS_ZiDSAy",
        "colab_type": "text"
      },
      "source": [
        "> **Note**: Once you have completed all of the code implementations and successfully answered each question above, you may finalize your work by exporting the iPython Notebook as an HTML document. You can do this by using the menu above and navigating to  \\n\",\n",
        "    \"**File -> Download as -> HTML (.html)**. Include the finished document along with this notebook as your submission."
      ]
    },
    {
      "cell_type": "markdown",
      "metadata": {
        "id": "IIpJKn-jDSAz",
        "colab_type": "text"
      },
      "source": [
        "---\n",
        "\n",
        "## Step 4 (Optional): Visualize the Neural Network's State with Test Images\n",
        "\n",
        " This Section is not required to complete but acts as an additional excersise for understaning the output of a neural network's weights. While neural networks can be a great learning device they are often referred to as a black box. We can understand what the weights of a neural network look like better by plotting their feature maps. After successfully training your neural network you can see what it's feature maps look like by plotting the output of the network's weight layers in response to a test stimuli image. From these plotted feature maps, it's possible to see what characteristics of an image the network finds interesting. For a sign, maybe the inner network feature maps react with high activation to the sign's boundary outline or to the contrast in the sign's painted symbol.\n",
        "\n",
        " Provided for you below is the function code that allows you to get the visualization output of any tensorflow weight layer you want. The inputs to the function should be a stimuli image, one used during training or a new one you provided, and then the tensorflow variable name that represents the layer's state during the training process, for instance if you wanted to see what the [LeNet lab's](https://classroom.udacity.com/nanodegrees/nd013/parts/fbf77062-5703-404e-b60c-95b78b2f3f9e/modules/6df7ae49-c61c-4bb2-a23e-6527e69209ec/lessons/601ae704-1035-4287-8b11-e2c2716217ad/concepts/d4aca031-508f-4e0b-b493-e7b706120f81) feature maps looked like for it's second convolutional layer you could enter conv2 as the tf_activation variable.\n",
        "\n",
        "For an example of what feature map outputs look like, check out NVIDIA's results in their paper [End-to-End Deep Learning for Self-Driving Cars](https://devblogs.nvidia.com/parallelforall/deep-learning-self-driving-cars/) in the section Visualization of internal CNN State. NVIDIA was able to show that their network's inner weights had high activations to road boundary lines by comparing feature maps from an image with a clear path to one without. Try experimenting with a similar test to show that your trained network's weights are looking for interesting features, whether it's looking at differences in feature maps from images with or without a sign, or even what feature maps look like in a trained network vs a completely untrained one on the same sign image.\n",
        "\n",
        "<figure>\n",
        " <img src=\"visualize_cnn.png\" width=\"380\" alt=\"Combined Image\" />\n",
        " <figcaption>\n",
        " <p></p> \n",
        " <p style=\"text-align: center;\"> Your output should look something like this (above)</p> \n",
        " </figcaption>\n",
        "</figure>\n",
        " <p></p> \n"
      ]
    },
    {
      "cell_type": "code",
      "metadata": {
        "id": "5BB2NPq7DSA0",
        "colab_type": "code",
        "colab": {}
      },
      "source": [
        "### Visualize your network's feature maps here.\n",
        "### Feel free to use as many code cells as needed.\n",
        "\n",
        "# image_input: the test image being fed into the network to produce the feature maps\n",
        "# tf_activation: should be a tf variable name used during your training procedure that represents the calculated state of a specific weight layer\n",
        "# activation_min/max: can be used to view the activation contrast in more detail, by default matplot sets min and max to the actual min and max values of the output\n",
        "# plt_num: used to plot out multiple different weight feature map sets on the same block, just extend the plt number for each new feature map entry\n",
        "\n",
        "def outputFeatureMap(image_input, tf_activation, activation_min=-1, activation_max=-1 ,plt_num=1):\n",
        "    # Here make sure to preprocess your image_input in a way your network expects\n",
        "    # with size, normalization, ect if needed\n",
        "    # image_input =\n",
        "    # Note: x should be the same name as your network's tensorflow data placeholder variable\n",
        "    # If you get an error tf_activation is not defined it may be having trouble accessing the variable from inside a function\n",
        "    activation = tf_activation.eval(session=sess,feed_dict={x : image_input})\n",
        "    featuremaps = activation.shape[3]\n",
        "    plt.figure(plt_num, figsize=(15,15))\n",
        "    for featuremap in range(featuremaps):\n",
        "        plt.subplot(6,8, featuremap+1) # sets the number of feature maps to show on each row and column\n",
        "        plt.title('FeatureMap ' + str(featuremap)) # displays the feature map number\n",
        "        if activation_min != -1 & activation_max != -1:\n",
        "            plt.imshow(activation[0,:,:, featuremap], interpolation=\"nearest\", vmin =activation_min, vmax=activation_max, cmap=\"gray\")\n",
        "        elif activation_max != -1:\n",
        "            plt.imshow(activation[0,:,:, featuremap], interpolation=\"nearest\", vmax=activation_max, cmap=\"gray\")\n",
        "        elif activation_min !=-1:\n",
        "            plt.imshow(activation[0,:,:, featuremap], interpolation=\"nearest\", vmin=activation_min, cmap=\"gray\")\n",
        "        else:\n",
        "            plt.imshow(activation[0,:,:, featuremap], interpolation=\"nearest\", cmap=\"gray\")"
      ],
      "execution_count": 0,
      "outputs": []
    }
  ]
}